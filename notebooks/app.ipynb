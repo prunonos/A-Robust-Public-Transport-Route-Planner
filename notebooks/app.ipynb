{
 "cells": [
  {
   "cell_type": "code",
   "execution_count": null,
   "id": "fa250bfa",
   "metadata": {},
   "outputs": [],
   "source": [
    "# it may be possible that we have to install some packages even though they are present in the environment.yml\n",
    "# !pip install networkx pyarrow --quiet"
   ]
  },
  {
   "cell_type": "code",
   "execution_count": null,
   "id": "15108c38",
   "metadata": {},
   "outputs": [],
   "source": [
    "import os\n",
    "import random\n",
    "import datetime\n",
    "import numpy as np\n",
    "import pandas as pd\n",
    "import networkx as nx\n",
    "\n",
    "import matplotlib.pyplot as plt\n",
    "import plotly.express as px\n",
    "import plotly.graph_objects as go\n",
    "\n",
    "import ipywidgets as widgets\n",
    "from IPython.core.display import display, HTML\n",
    "\n",
    "\n",
    "from hdfs3 import HDFileSystem\n",
    "from graph_utils import find_path, timedelta\n",
    "from app_utils import get_html, aggregate_path, create_df_path\n",
    "\n",
    "TIME_FORMAT = '%H:%M:%S'"
   ]
  },
  {
   "cell_type": "code",
   "execution_count": null,
   "id": "8beebb06",
   "metadata": {},
   "outputs": [],
   "source": [
    "%load_ext autoreload\n",
    "%autoreload 2\n",
    "%load_ext sparkmagic.magics "
   ]
  },
  {
   "cell_type": "code",
   "execution_count": null,
   "id": "3d60f84b",
   "metadata": {},
   "outputs": [],
   "source": [
    "# start spark application\n",
    "username = os.environ['RENKU_USERNAME']\n",
    "server = \"http://iccluster029.iccluster.epfl.ch:8998\"\n",
    "\n",
    "# set the application name as \"<your_gaspar_id>-homework3\"\n",
    "get_ipython().run_cell_magic(\n",
    "    'spark',\n",
    "    line='config', \n",
    "    cell=\"\"\"{{ \"name\": \"{0}-final-assignment\", \"executorMemory\": \"4G\", \"executorCores\": 4, \"numExecutors\": 10, \"driverMemory\": \"4G\"}}\"\"\".format(username)\n",
    ")\n",
    "get_ipython().run_line_magic(\n",
    "    \"spark\", \"add -s {0}-final-assignment -l python -u {1} -k\".format(username, server)\n",
    ");"
   ]
  },
  {
   "cell_type": "code",
   "execution_count": null,
   "id": "770a5a37",
   "metadata": {},
   "outputs": [],
   "source": [
    "%%spark\n",
    "from io import StringIO\n",
    "from datetime import datetime\n",
    "import pandas as pd\n",
    "\n",
    "# import delays file\n",
    "delays = spark.read.orc('/group/data-science-group/df_delays')\n",
    "delays = delays.dropna().cache()"
   ]
  },
  {
   "cell_type": "code",
   "execution_count": null,
   "id": "8802a696",
   "metadata": {},
   "outputs": [],
   "source": [
    "%%spark\n",
    "\n",
    "# function to get switchtimes and walking times of the route\n",
    "def getSwitchTimeTable(df):\n",
    "    walking_times = {stopId: 0 for stopId in df.from_stop_id[1:]}\n",
    "    # walking time must be selected also from the table, but in this sample we didnt had the walking_time\n",
    "    switch_times = {}\n",
    "    hours = []\n",
    "\n",
    "    arrival_time = datetime.strptime(df.iloc[0].to_arrival_time,'%H:%M:%S')\n",
    "    for i in range(1,len(df)):\n",
    "        hours.append(df.iloc[i].from_departure_time[:2])\n",
    "        departure_time = datetime.strptime(df.iloc[i].from_departure_time,'%H:%M:%S')\n",
    "        switch_times[df.iloc[i].from_stop_id] = (departure_time - arrival_time).seconds\n",
    "        arrival_time = datetime.strptime(df.iloc[i].to_arrival_time,'%H:%M:%S')\n",
    "            \n",
    "    df = pd.DataFrame({'bpuic':switch_times.keys(), 'hour': map(int, hours), 'switch_time':switch_times.values(), 'walking_time':walking_times.values()})\n",
    "    sparkDF = spark.createDataFrame(df)    \n",
    "    return sparkDF"
   ]
  },
  {
   "cell_type": "code",
   "execution_count": null,
   "id": "e3b0a3cf",
   "metadata": {},
   "outputs": [],
   "source": [
    "%%spark\n",
    "import pyspark.sql.functions as F\n",
    "import numpy as np\n",
    "\n",
    "def get_Qroute(df):\n",
    "    sparkDF = getSwitchTimeTable(df)\n",
    "    # now join the switch times and walking times with the delays (we keep only the ones we need) \n",
    "    join_delay_switch_DF = sparkDF.join(delays,['bpuic','hour'],how='inner') # delays -> already imported\n",
    "    ratioDF = join_delay_switch_DF.withColumn('ratio', ((F.col('walking_time') + F.col('delay')) < F.col('switch_time')).cast('integer'))\n",
    "    q_values = ratioDF.groupBy(['bpuic','hour']).agg({'ratio':'mean'}) #.collect() # q_values[i] = [0,1]    Qroute = F.product(q_values)\n",
    "    return q_values"
   ]
  },
  {
   "cell_type": "code",
   "execution_count": null,
   "id": "679a590d",
   "metadata": {},
   "outputs": [],
   "source": [
    "hdfs = HDFileSystem(user='eric')\n",
    "def load_df(path):\n",
    "    return pd.concat([pd.read_orc(hdfs.open(f)) for f in hdfs.glob(path) if not 'SUCCESS' in f])"
   ]
  },
  {
   "cell_type": "code",
   "execution_count": null,
   "id": "94c63e21",
   "metadata": {},
   "outputs": [],
   "source": [
    "df_transport = load_df('/group/data-science-group/df_transport')\n",
    "df_transport['transfer_type'] = '0'"
   ]
  },
  {
   "cell_type": "code",
   "execution_count": null,
   "id": "254369df",
   "metadata": {},
   "outputs": [],
   "source": [
    "df_walking = load_df('/group/data-science-group/df_transfer_with_walking_transfers')\n",
    "df_walking = df_walking.rename(columns={'min_transfer_time': 'travel_time'})"
   ]
  },
  {
   "cell_type": "code",
   "execution_count": null,
   "id": "c01a707c",
   "metadata": {},
   "outputs": [],
   "source": [
    "df = pd.concat([df_transport, df_walking])\n",
    "df['from_departure_time'] = pd.to_datetime(df['from_departure_time'], format=TIME_FORMAT).dt.time\n",
    "df['to_arrival_time'] = pd.to_datetime(df['to_arrival_time'], format=TIME_FORMAT).dt.time"
   ]
  },
  {
   "cell_type": "code",
   "execution_count": null,
   "id": "64437223",
   "metadata": {},
   "outputs": [],
   "source": [
    "G = nx.from_pandas_edgelist(df, \n",
    "                            source='from_stop_id', \n",
    "                            target='to_stop_id', \n",
    "                            edge_attr=True,\n",
    "                            create_using=nx.MultiDiGraph)"
   ]
  },
  {
   "cell_type": "code",
   "execution_count": null,
   "id": "8a2e2f8f",
   "metadata": {},
   "outputs": [],
   "source": [
    "df_stops = df.drop_duplicates(subset='from_stop_id', keep='first')[['from_stop_id','from_stop_name']]"
   ]
  },
  {
   "cell_type": "code",
   "execution_count": null,
   "id": "c8bbd0d2",
   "metadata": {},
   "outputs": [],
   "source": [
    "df_stops_dict = {f\"{name} - {id}\": id for id, name in zip(df_stops['from_stop_id'], df_stops['from_stop_name'])}"
   ]
  },
  {
   "cell_type": "markdown",
   "id": "da08b0b4",
   "metadata": {},
   "source": [
    "# A robust public transport route planner"
   ]
  },
  {
   "cell_type": "code",
   "execution_count": null,
   "id": "1862c276",
   "metadata": {},
   "outputs": [],
   "source": [
    "hoverinfo = 'name+text'\n",
    "fig = go.Figure(go.Scattermapbox(\n",
    "    mode = \"markers+lines\",\n",
    "    lon = [],\n",
    "    lat = [],\n",
    "    hovertext=[],\n",
    "    hoverinfo=hoverinfo,\n",
    "    name='Stop',\n",
    "    marker = {'size': 10, 'color':'#1f77b4'},\n",
    "    showlegend=False\n",
    "    ))\n",
    "fig.add_trace(\n",
    "    go.Scattermapbox(\n",
    "        mode='markers',\n",
    "        lon=[],\n",
    "        lat=[],\n",
    "        hovertext=[],\n",
    "        hoverinfo=hoverinfo,\n",
    "        name='Connection',\n",
    "        marker = {'size': 15, 'color':'#1f77b4'},\n",
    "    showlegend=False))\n",
    "fig.update_layout(\n",
    "    margin ={'l':0,'t':0,'b':0,'r':0},\n",
    "    mapbox = {\n",
    "        'center': {'lon': 8.540192, 'lat': 47.378177},\n",
    "        'style': \"stamen-terrain\",\n",
    "        'zoom': 10})\n",
    "\n",
    "stream_fig = go.FigureWidget(fig)\n",
    "stream_fig"
   ]
  },
  {
   "cell_type": "code",
   "execution_count": null,
   "id": "25534244",
   "metadata": {},
   "outputs": [],
   "source": [
    "start = widgets.Combobox(\n",
    "    placeholder='Choose departure station',\n",
    "    options=list(df_stops_dict.keys()),\n",
    "    description='From:',\n",
    "    ensure_option=True,\n",
    "    disabled=False\n",
    ")\n",
    "start"
   ]
  },
  {
   "cell_type": "code",
   "execution_count": null,
   "id": "ed27aa1c",
   "metadata": {},
   "outputs": [],
   "source": [
    "end = widgets.Combobox(\n",
    "    placeholder='Choose arrival station',\n",
    "    options=list(df_stops_dict.keys()),\n",
    "    description='End:',\n",
    "    ensure_option=True,\n",
    "    disabled=False\n",
    ")\n",
    "end"
   ]
  },
  {
   "cell_type": "code",
   "execution_count": null,
   "id": "6b891340",
   "metadata": {},
   "outputs": [],
   "source": [
    "hour = widgets.Dropdown(\n",
    "    options=list(range(8, 17)),\n",
    "    value=15,\n",
    "    description='Hour:',\n",
    "    disabled=False,\n",
    ")\n",
    "hour"
   ]
  },
  {
   "cell_type": "code",
   "execution_count": null,
   "id": "a79b17b0",
   "metadata": {},
   "outputs": [],
   "source": [
    "minute = widgets.Dropdown(\n",
    "    options=list(range(0, 60, 5)),\n",
    "    value=35,\n",
    "    description='Minutes:',\n",
    "    disabled=False,\n",
    ")\n",
    "minute"
   ]
  },
  {
   "cell_type": "code",
   "execution_count": null,
   "id": "49b52c8c",
   "metadata": {},
   "outputs": [],
   "source": [
    "button = widgets.Button(description=\"Plan my route\")\n",
    "output = widgets.Output()\n",
    "\n",
    "display(button, output)\n",
    "\n",
    "def on_button_clicked(button):\n",
    "    if start.value == '' or end.value == '' or hour.value == '' or minute.value == '':\n",
    "        with output:\n",
    "            print('Give values')\n",
    "        return\n",
    "    output.clear_output()\n",
    "    \n",
    "    with output:\n",
    "        display(HTML(\"\"\"<div style=\"font-size: 32px; margin-bottom: 32px;\"><span>{}</span> → <span>{}</span></div>\"\"\".format(start.value.split(\"-\")[0], end.value.split(\"-\")[0])))\n",
    "    \n",
    "    count = 0\n",
    "    i = 1\n",
    "    prev_q = 0\n",
    "\n",
    "    while count < 5 and i < 18 and prev_q < 0.95:\n",
    "        try:\n",
    "            start_time, path = find_path(G, df_stops_dict[start.value], df_stops_dict[end.value], f'{hour.value:02}:{minute.value:02}:00', minimum_wait_time=f'00:0{i//2}:{(i % 2) * 30}')\n",
    "        except nx.NetworkXNoPath as e:\n",
    "            with output:\n",
    "                print(e)\n",
    "            return\n",
    "        \n",
    "        df_path = create_df_path(path, end.value.split(\"-\")[0])\n",
    "        df_path_agg = aggregate_path(df_path)\n",
    "        \n",
    "        df_path_agg_string = df_path_agg.to_csv()\n",
    "        get_ipython().run_cell_magic('spark', '', f\"string = u'''{df_path_agg_string}'''\\nsample_route_str = StringIO(string)\\nsample_route = pd.read_csv(sample_route_str, index_col='trip_id')\")\n",
    "        get_ipython().run_cell_magic('spark', '-o Q', 'Q = get_Qroute(sample_route)')\n",
    "        \n",
    "        q_values_df = pd.DataFrame(Q,columns=['bpuic','hour','avg(ratio)'])\n",
    "        Qroute = np.prod(q_values_df[\"avg(ratio)\"])  # it could be also the mean\n",
    "        if Qroute > prev_q:\n",
    "            count += 1\n",
    "            with stream_fig.batch_update():\n",
    "                stream_fig.data[0].lat = df_path.from_stop_lat  \n",
    "                stream_fig.data[0].lon = df_path.from_stop_lon\n",
    "                stream_fig.data[0].hovertext = df_path.from_stop_name \n",
    "\n",
    "                stream_fig.data[1].lat = df_path_agg.from_stop_lat.to_list() + df_path.from_stop_lat.to_list()[-1:]\n",
    "                stream_fig.data[1].lon = df_path_agg.from_stop_lon.to_list() + df_path.from_stop_lon.to_list()[-1:]\n",
    "                stream_fig.data[1].hovertext = df_path_agg.from_stop_name.to_list() + df_path.from_stop_name.to_list()[-1:]\n",
    "\n",
    "\n",
    "\n",
    "            html = get_html(df_path, df_path_agg, Qroute)\n",
    "            with output:\n",
    "                display(HTML(html))\n",
    "                \n",
    "            prev_q = Qroute\n",
    "        \n",
    "        i += 1\n",
    "\n",
    "\n",
    "button.on_click(on_button_clicked)"
   ]
  }
 ],
 "metadata": {
  "jupytext": {
   "cell_metadata_filter": "-all",
   "main_language": "python",
   "notebook_metadata_filter": "-all"
  },
  "kernelspec": {
   "display_name": "Python 3",
   "language": "python",
   "name": "python3"
  },
  "language_info": {
   "codemirror_mode": {
    "name": "ipython",
    "version": 3
   },
   "file_extension": ".py",
   "mimetype": "text/x-python",
   "name": "python",
   "nbconvert_exporter": "python",
   "pygments_lexer": "ipython3",
   "version": "3.9.7"
  }
 },
 "nbformat": 4,
 "nbformat_minor": 5
}
